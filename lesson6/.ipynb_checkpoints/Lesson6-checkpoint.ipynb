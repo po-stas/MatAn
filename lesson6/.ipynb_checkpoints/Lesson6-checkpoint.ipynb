{
 "cells": [
  {
   "cell_type": "markdown",
   "metadata": {},
   "source": [
    "# Тема 6 “Понятие о производной”"
   ]
  },
  {
   "cell_type": "markdown",
   "metadata": {},
   "source": [
    "1. Найти производную выражения"
   ]
  },
  {
   "cell_type": "markdown",
   "metadata": {},
   "source": [
    "a. $(sin x\\cdot cos x)' = (sin x)' \\cdot (cos x) + sin x \\cdot (cos x)' = cos x \\cdot cos x + sin x \\cdot (-sin x) = cos^2 x - sin^2 x = cos 2x$"
   ]
  },
  {
   "cell_type": "markdown",
   "metadata": {},
   "source": [
    "b. $(ln(2x + 1)^3)' = (3 \\cdot ln(2x + 1))' = 3\\cdot\\frac{1}{2x+1}\\cdot(2x+1)' = 3\\cdot\\frac{1}{2x+1}\\cdot2 = \\frac{6}{2x+1}$"
   ]
  },
  {
   "cell_type": "markdown",
   "metadata": {},
   "source": [
    "c. $\\sqrt{sin^2(ln(x^3))}' = |sin(ln(x^3))|' = \\frac{sin(3ln(x))}{|sin(3ln(x))|}\\cdot sin(3ln(x))'$"
   ]
  },
  {
   "cell_type": "markdown",
   "metadata": {},
   "source": [
    "$sin(3ln(x))' = cos(3ln(x)) \\cdot 3 \\cdot ln(x)' = cos(3ln(x)) \\cdot 3 \\cdot \\frac{1}{x}$"
   ]
  },
  {
   "cell_type": "markdown",
   "metadata": {},
   "source": [
    "значит: $\\sqrt{sin^2(ln(x^3))}' = \\frac{sin(3ln(x)) \\cdot cos(3ln(x)) \\cdot 3}{x|sin(3ln(x))|} = \\frac{3 sin(6ln(x))}{2x|sin(3ln(x))|}$"
   ]
  },
  {
   "cell_type": "markdown",
   "metadata": {},
   "source": [
    "d. $\\frac{x^4}{ln(x)}' = \\frac{((x^4)' \\cdot ln(x) - x^4 \\cdot ln(x)'}{ln(x)^2} = \\frac{4x^3ln(x) - x^3}{ln^2(x)}$"
   ]
  },
  {
   "cell_type": "markdown",
   "metadata": {},
   "source": [
    "2. Найти выражение производной функции и ее значение в точке "
   ]
  },
  {
   "cell_type": "markdown",
   "metadata": {},
   "source": [
    "$$f(x) = cos(x^2 + 3x), x_0 = \\sqrt{\\pi}$$"
   ]
  },
  {
   "cell_type": "markdown",
   "metadata": {},
   "source": [
    "$cos(x^2 + 3x)' = -sin(x^2 + 3x)\\cdot (x^2 + 3x)' = -sin(x^2 + 3x)\\cdot (2x + 3)$"
   ]
  },
  {
   "cell_type": "markdown",
   "metadata": {},
   "source": [
    "Значение в точке $\\sqrt\\pi$ равно:"
   ]
  },
  {
   "cell_type": "code",
   "execution_count": 31,
   "metadata": {},
   "outputs": [
    {
     "name": "stdout",
     "output_type": "stream",
     "text": [
      "-5.383302410890619\n"
     ]
    }
   ],
   "source": [
    "import math\n",
    "x = math.sqrt(math.pi)\n",
    "dx_0 = -math.sin(x*x + 3 * x) * (2 * x + 3)\n",
    "print(dx_0)"
   ]
  },
  {
   "cell_type": "markdown",
   "metadata": {},
   "source": [
    "3. \\* Найти значение производной функции в точке:"
   ]
  },
  {
   "cell_type": "markdown",
   "metadata": {},
   "source": [
    "$$f(x) = \\frac{x^3 - x^2 - x - 1}{1 + 2x + 3x^2 - 4x^3}, x_0 = 0$$"
   ]
  },
  {
   "cell_type": "markdown",
   "metadata": {},
   "source": [
    "$\\frac{x^3 - x^2 - x - 1}{1 + 2x + 3x^2 - 4x^3}' = \\frac{(3x^2 - 2x - 1)\\cdot(1 + 2x + 3x^2 - 4x^3) - (x^3 - x^2 - x - 1) \\cdot(2 + 6x - 12x^2)}{(1 + 2x + 3x^2 - 4x^3)^2} = \\frac{-x^4 - 4x^3 + 4x + 1}{(-4x^3 + 3x^2 + 2x + 1)^2}$"
   ]
  },
  {
   "cell_type": "markdown",
   "metadata": {},
   "source": [
    "Значение производной в точке $x_0=0$ будет равно 1"
   ]
  },
  {
   "cell_type": "markdown",
   "metadata": {},
   "source": [
    "4. Найти угол наклона касательной к графику функции в точке:"
   ]
  },
  {
   "cell_type": "markdown",
   "metadata": {},
   "source": [
    "$$f(x) = \\sqrt{3x}\\cdot ln(x), x_0 = 1$$"
   ]
  },
  {
   "cell_type": "markdown",
   "metadata": {},
   "source": [
    "Найдем производную в точке"
   ]
  },
  {
   "cell_type": "markdown",
   "metadata": {},
   "source": [
    "$(\\sqrt{3x}\\cdot ln(x))' = (\\sqrt{3}\\cdot\\sqrt{x}\\cdot ln(x))' = \\sqrt{3}(\\frac{1}{2\\sqrt{x}} \\cdot ln(x) + \\frac{1}{\\sqrt{x}})$"
   ]
  },
  {
   "cell_type": "markdown",
   "metadata": {},
   "source": [
    "Производная в точке"
   ]
  },
  {
   "cell_type": "code",
   "execution_count": 34,
   "metadata": {},
   "outputs": [
    {
     "name": "stdout",
     "output_type": "stream",
     "text": [
      "1.7320508075688772\n"
     ]
    }
   ],
   "source": [
    "x = 1\n",
    "dx_0 = math.sqrt(3) * (math.log(x)/(2 * math.sqrt(x)) + 1/math.sqrt(x))\n",
    "print(dx_0)"
   ]
  },
  {
   "cell_type": "markdown",
   "metadata": {},
   "source": [
    "значение производной в точке равно $tg(\\alpha)$ - угла наклона касательной значит угол будет равен:"
   ]
  },
  {
   "cell_type": "code",
   "execution_count": 35,
   "metadata": {},
   "outputs": [
    {
     "data": {
      "text/plain": [
       "1.0471975511965979"
      ]
     },
     "execution_count": 35,
     "metadata": {},
     "output_type": "execute_result"
    }
   ],
   "source": [
    "math.atan(dx_0)"
   ]
  },
  {
   "cell_type": "markdown",
   "metadata": {},
   "source": [
    "1.0471975511965979 радиан"
   ]
  },
  {
   "cell_type": "code",
   "execution_count": null,
   "metadata": {},
   "outputs": [],
   "source": []
  }
 ],
 "metadata": {
  "kernelspec": {
   "display_name": "Python 3",
   "language": "python",
   "name": "python3"
  },
  "language_info": {
   "codemirror_mode": {
    "name": "ipython",
    "version": 3
   },
   "file_extension": ".py",
   "mimetype": "text/x-python",
   "name": "python",
   "nbconvert_exporter": "python",
   "pygments_lexer": "ipython3",
   "version": "3.7.3"
  }
 },
 "nbformat": 4,
 "nbformat_minor": 2
}
