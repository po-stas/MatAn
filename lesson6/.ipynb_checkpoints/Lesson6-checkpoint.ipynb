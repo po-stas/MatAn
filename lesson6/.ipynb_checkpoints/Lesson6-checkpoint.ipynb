{
 "cells": [
  {
   "cell_type": "markdown",
   "metadata": {},
   "source": [
    "# Тема 6 “Понятие о производной”"
   ]
  },
  {
   "cell_type": "markdown",
   "metadata": {},
   "source": [
    "1. Найти производную выражения"
   ]
  },
  {
   "cell_type": "markdown",
   "metadata": {},
   "source": [
    "a. $(sin x\\cdot cos x)' = (sin x)' \\cdot (cos x) + sin x \\cdot (cos x)' = cos x \\cdot cos x + sin x \\cdot (-sin x) = cos^2 x - sin^2 x = cos 2x$"
   ]
  },
  {
   "cell_type": "markdown",
   "metadata": {},
   "source": [
    "b. $(ln(2x + 1)^3)' = (3 \\cdot ln(2x + 1))' = 3\\cdot\\frac{1}{2x+1}\\cdot(2x+1)' = 3\\cdot\\frac{1}{2x+1}\\cdot2 = \\frac{6}{2x+1}$"
   ]
  },
  {
   "cell_type": "markdown",
   "metadata": {},
   "source": [
    "c. $\\sqrt{sin^2(ln(x^3))}' = |sin(ln(x^3))|' = \\frac{sin(3ln(x))}{|sin(3ln(x))|}\\cdot sin(3ln(x))'$"
   ]
  },
  {
   "cell_type": "markdown",
   "metadata": {},
   "source": [
    "$sin(3ln(x))' = cos(3ln(x)) \\cdot 3 \\cdot ln(x)' = cos(3ln(x)) \\cdot 3 \\cdot \\frac{1}{x}$"
   ]
  },
  {
   "cell_type": "markdown",
   "metadata": {},
   "source": [
    "значит: $\\sqrt{sin^2(ln(x^3))}' = \\frac{sin(3ln(x)) \\cdot cos(3ln(x)) \\cdot 3}{x|sin(3ln(x))|} = \\frac{3 sin(6ln(x))}{2x|sin(3ln(x))|}$"
   ]
  },
  {
   "cell_type": "code",
   "execution_count": null,
   "metadata": {},
   "outputs": [],
   "source": []
  }
 ],
 "metadata": {
  "kernelspec": {
   "display_name": "Python 3",
   "language": "python",
   "name": "python3"
  },
  "language_info": {
   "codemirror_mode": {
    "name": "ipython",
    "version": 3
   },
   "file_extension": ".py",
   "mimetype": "text/x-python",
   "name": "python",
   "nbconvert_exporter": "python",
   "pygments_lexer": "ipython3",
   "version": "3.7.3"
  }
 },
 "nbformat": 4,
 "nbformat_minor": 2
}
