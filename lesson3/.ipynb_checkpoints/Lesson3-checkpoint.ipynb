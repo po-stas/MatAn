{
 "cells": [
  {
   "cell_type": "markdown",
   "metadata": {},
   "source": [
    "# Домашняя работа\n",
    "Математическая логика. Последовательность."
   ]
  },
  {
   "cell_type": "markdown",
   "metadata": {},
   "source": [
    "# Математическая логика"
   ]
  },
  {
   "cell_type": "markdown",
   "metadata": {},
   "source": [
    "Проверить любым способ, является ли данная логическая формула тавтологией:"
   ]
  },
  {
   "cell_type": "markdown",
   "metadata": {},
   "source": [
    "$(A \\vee B) \\rightarrow (A \\vee \\overline{B})$ - не является тавтологией. При ложных A и B - правая часть не следует из левой, то-же при ложном A и истинном B."
   ]
  },
  {
   "cell_type": "markdown",
   "metadata": {},
   "source": [
    "$A \\rightarrow (A \\vee (\\overline{B} \\wedge A))$ - похоже является тавтологией."
   ]
  },
  {
   "cell_type": "markdown",
   "metadata": {},
   "source": [
    "Сформулируйте словесно высказывания:"
   ]
  },
  {
   "cell_type": "markdown",
   "metadata": {},
   "source": [
    "$(\\overline{A} \\vee B) \\rightarrow \\overline{C}$ - Если сегодня не светит солнце или сыро то я не поеду на дачу."
   ]
  },
  {
   "cell_type": "markdown",
   "metadata": {},
   "source": [
    "$C \\rightarrow (A \\vee \\overline{B})$ - если я поеду на дачу - значит сегодня светит солнце и не сыро."
   ]
  },
  {
   "cell_type": "markdown",
   "metadata": {},
   "source": [
    "# Математическая логика"
   ]
  },
  {
   "cell_type": "markdown",
   "metadata": {},
   "source": [
    "Пользуясь правилом построения противоположного высказывания, записать утверждения, противоположные следующим:"
   ]
  },
  {
   "cell_type": "markdown",
   "metadata": {},
   "source": [
    "5. На любом курсе каждого факультета есть студенты, сдающие все экзамены на «отлично».\n"
   ]
  },
  {
   "cell_type": "markdown",
   "metadata": {},
   "source": [
    "-- Найдутся курсы на некоторых факультетах, где все студенты не сдают экзамены на \"отлично\"."
   ]
  },
  {
   "cell_type": "markdown",
   "metadata": {},
   "source": [
    "6. Каждый студент философского факультета имеет друга, который умеет решать все логические задачи."
   ]
  },
  {
   "cell_type": "markdown",
   "metadata": {},
   "source": [
    "-- Найдется студент философского факультета, у которого все друзья не умеют решать все логические задачи."
   ]
  },
  {
   "cell_type": "markdown",
   "metadata": {},
   "source": [
    "7. В любом самолете на рейсе Вашингтон-Москва присутствует хотя бы один сотрудник силовых органов, в каждой пуговице одежды которого вмонтирован микрофон."
   ]
  },
  {
   "cell_type": "markdown",
   "metadata": {},
   "source": [
    "-- На рейсе Вашингтон-Москва найдется самолет в котором у каждого сотрудника силовых органов найдутся пуговицы, в которых не будут вмонтированы микрофоны."
   ]
  },
  {
   "cell_type": "markdown",
   "metadata": {},
   "source": [
    "# Множества. Предел последовательности"
   ]
  },
  {
   "cell_type": "markdown",
   "metadata": {},
   "source": [
    "Представьте в виде несократимой рациональной дроби:"
   ]
  },
  {
   "cell_type": "markdown",
   "metadata": {},
   "source": [
    "# 8.  0.(216)"
   ]
  },
  {
   "cell_type": "markdown",
   "metadata": {},
   "source": [
    "a = 0.(216)"
   ]
  },
  {
   "cell_type": "markdown",
   "metadata": {},
   "source": [
    "1000a = 216 + 0.(216)"
   ]
  },
  {
   "cell_type": "markdown",
   "metadata": {},
   "source": [
    "999a = 216"
   ]
  },
  {
   "cell_type": "markdown",
   "metadata": {},
   "source": [
    "a = $\\frac{216}{999}$"
   ]
  },
  {
   "cell_type": "markdown",
   "metadata": {},
   "source": [
    "a = $\\frac{24}{111}$"
   ]
  },
  {
   "cell_type": "markdown",
   "metadata": {},
   "source": [
    "# 9.   1.0(01)"
   ]
  },
  {
   "cell_type": "markdown",
   "metadata": {},
   "source": [
    "b = 1.0(01)"
   ]
  },
  {
   "cell_type": "markdown",
   "metadata": {},
   "source": [
    "10b = 10.(01)"
   ]
  },
  {
   "cell_type": "markdown",
   "metadata": {},
   "source": [
    "1000b = 1001.(01)"
   ]
  },
  {
   "cell_type": "markdown",
   "metadata": {},
   "source": [
    "1000b - 10b = 1001.(01) - 10.(01)"
   ]
  },
  {
   "cell_type": "markdown",
   "metadata": {},
   "source": [
    "990b = 991"
   ]
  },
  {
   "cell_type": "markdown",
   "metadata": {},
   "source": [
    "b = $\\frac{991}{990}$"
   ]
  },
  {
   "cell_type": "markdown",
   "metadata": {},
   "source": [
    "10. Представьте 1 в виде суммы трех рациональных дробей с разными знаменателями и числителем равным 1."
   ]
  },
  {
   "cell_type": "markdown",
   "metadata": {},
   "source": [
    "Не знаю как это вычислить - путем подбора: $\\frac{1}{2} + \\frac{1}{3} + \\frac{1}{6}$ = 1"
   ]
  },
  {
   "cell_type": "markdown",
   "metadata": {},
   "source": [
    "11*. Тоже задание, только в виде суммы шести дробей."
   ]
  },
  {
   "cell_type": "markdown",
   "metadata": {},
   "source": [
    "$\\frac{1}{2} + \\frac{1}{3} + \\frac{1}{12} + \\frac{1}{22} + \\frac{1}{44} + \\frac{1}{66}$ = 1 Опять-же - абсолютно без понятния как это можно вычислять - чистый подбор"
   ]
  },
  {
   "cell_type": "code",
   "execution_count": null,
   "metadata": {},
   "outputs": [],
   "source": []
  },
  {
   "cell_type": "code",
   "execution_count": null,
   "metadata": {},
   "outputs": [],
   "source": []
  }
 ],
 "metadata": {
  "kernelspec": {
   "display_name": "Python 3",
   "language": "python",
   "name": "python3"
  },
  "language_info": {
   "codemirror_mode": {
    "name": "ipython",
    "version": 3
   },
   "file_extension": ".py",
   "mimetype": "text/x-python",
   "name": "python",
   "nbconvert_exporter": "python",
   "pygments_lexer": "ipython3",
   "version": "3.7.3"
  }
 },
 "nbformat": 4,
 "nbformat_minor": 2
}
