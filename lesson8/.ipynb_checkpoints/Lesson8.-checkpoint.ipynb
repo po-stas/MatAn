{
 "cells": [
  {
   "cell_type": "markdown",
   "metadata": {},
   "source": [
    "# Домашнее задание по теме «Производные функций нескольких переменных»."
   ]
  },
  {
   "cell_type": "markdown",
   "metadata": {},
   "source": [
    "1. Найти область определения функции."
   ]
  },
  {
   "cell_type": "markdown",
   "metadata": {},
   "source": [
    "$z = \\sqrt{1-x^3} + ln(y^2 -1)$"
   ]
  },
  {
   "cell_type": "markdown",
   "metadata": {},
   "source": [
    "$\n",
    "\\begin{cases}\n",
    "1-x^3 \\geq 0\\\\\n",
    "y^2-1 > 0\\\\\n",
    "\\end{cases}\n",
    "$"
   ]
  },
  {
   "cell_type": "markdown",
   "metadata": {},
   "source": [
    "$\n",
    "\\begin{cases}\n",
    "x^3 \\leq 1\\\\\n",
    "y^2 > 1\\\\\n",
    "\\end{cases}\n",
    "$"
   ]
  },
  {
   "cell_type": "markdown",
   "metadata": {},
   "source": [
    "$\n",
    "\\begin{cases}\n",
    "x \\leq 1\\\\\n",
    "|y| > 1\\\\\n",
    "\\end{cases}\n",
    "$"
   ]
  },
  {
   "cell_type": "code",
   "execution_count": 32,
   "metadata": {},
   "outputs": [],
   "source": [
    "import numpy as np\n",
    "from matplotlib import pyplot as plt\n",
    "import matplotlib.patches as patches\n",
    "%matplotlib inline"
   ]
  },
  {
   "cell_type": "code",
   "execution_count": 94,
   "metadata": {},
   "outputs": [
    {
     "data": {
      "text/plain": [
       "<matplotlib.patches.Rectangle at 0x11f88e978>"
      ]
     },
     "execution_count": 94,
     "metadata": {},
     "output_type": "execute_result"
    },
    {
     "data": {
      "image/png": "[encoded data removed]",
      "text/plain": [
       "<Figure size 432x288 with 1 Axes>"
      ]
     },
     "metadata": {
      "needs_background": "light"
     },
     "output_type": "display_data"
    }
   ],
   "source": [
    "fig = plt.figure()\n",
    "x = np.linspace(-4, 1, 100)\n",
    "y = np.linspace(1, 1, 100)\n",
    "\n",
    "x1 = np.linspace(1, 1, 100)\n",
    "y1 = np.linspace(1, 4, 100)\n",
    "\n",
    "x2 = np.linspace(-4, 1, 100)\n",
    "y2 = np.linspace(-1, -1, 100)\n",
    "\n",
    "x3 = np.linspace(1, 1, 100)\n",
    "y3 = np.linspace(-1, -4, 100)\n",
    "\n",
    "ax = fig.add_subplot(111)\n",
    "ax.plot(x, y, '--', color='black', linewidth=2)\n",
    "ax.plot(x2, y2, '--', color='black', linewidth=2)\n",
    "ax.plot(x1, y1, color='black', linewidth=2)\n",
    "ax.plot(x3, y3, color='black', linewidth=2)\n",
    "ax.spines['left'].set_position('zero')\n",
    "ax.spines['right'].set_color('none')\n",
    "ax.spines['bottom'].set_position('zero')\n",
    "ax.spines['top'].set_color('none')\n",
    "\n",
    "rect = patches.Rectangle((1,1),-10,10,linewidth=1,edgecolor='w',facecolor='lightblue', hatch='/')\n",
    "rect2 = patches.Rectangle((1,-1),-10,-4,linewidth=1,edgecolor='w',facecolor='lightblue', hatch='/')\n",
    "ax.add_patch(rect)\n",
    "ax.add_patch(rect2)\n"
   ]
  },
  {
   "cell_type": "markdown",
   "metadata": {},
   "source": [
    "Получилось вот так, \n",
    "но почему-то wolfram-alpha показывает график, который наоборот - располагается в диапазоне -1 < y < 1, \n",
    "для меня это странно, поскольку при y между -1 и 1 $ln(y^2-1)$ явно не существует"
   ]
  },
  {
   "cell_type": "markdown",
   "metadata": {},
   "source": [
    "2. Найти производные первого порядка функции:"
   ]
  },
  {
   "cell_type": "markdown",
   "metadata": {},
   "source": [
    "$z=(1 + \\frac{ln(x)}{ln(y)})^3$"
   ]
  },
  {
   "cell_type": "markdown",
   "metadata": {},
   "source": [
    "$\\frac{d}{dx}[(1 + \\frac{ln(x)}{ln(y)})^3] = 3 (1 + \\frac{ln(x)}{ln(y)})^2 \\cdot \\frac{d}{dx}[1 + \\frac{ln(x)}{ln(y)}] = 3 (1 + \\frac{ln(x)}{ln(y)})^2 \\cdot (\\frac{\\frac{1}{x}}{ln(y)}) = \\frac{3 (1 + \\frac{ln(x)}{ln(y)})^2}{ln(y)x}$"
   ]
  },
  {
   "cell_type": "markdown",
   "metadata": {},
   "source": [
    "$\\frac{d}{dy}[(1 + \\frac{ln(x)}{ln(y)})^3] = 3 (1 + \\frac{ln(x)}{ln(y)})^2 \\cdot \\frac{d}{dy}[1 + \\frac{ln(x)}{ln(y)}] = 3 (1 + \\frac{ln(x)}{ln(y)})^2 \\cdot (-ln(x)\\frac{ln(y)'}{ln(y)^2}) = 3 (1 + \\frac{ln(x)}{ln(y)})^2 \\cdot (\\frac{-ln(x)}{yln^2(y)}) = - \\frac{3ln(x)(1 + \\frac{ln(x)}{ln(y)})^2}{yln^2(y)} = -\\frac{3ln(x)(ln(x) + ln(y))^2}{yln^4(y)}$"
   ]
  },
  {
   "cell_type": "markdown",
   "metadata": {},
   "source": [
    "3. Найти полный дифференциал функции в (1;1):"
   ]
  },
  {
   "cell_type": "markdown",
   "metadata": {},
   "source": [
    "$z = \\sqrt{2xy + cos{\\frac{x}{y}}}$"
   ]
  },
  {
   "cell_type": "markdown",
   "metadata": {},
   "source": []
  },
  {
   "cell_type": "markdown",
   "metadata": {},
   "source": []
  },
  {
   "cell_type": "markdown",
   "metadata": {},
   "source": [
    "4. Исследовать на экстремум функцию:"
   ]
  },
  {
   "cell_type": "markdown",
   "metadata": {},
   "source": [
    "$z = x^2 + xy + y^2 - 6x - 9y$"
   ]
  },
  {
   "cell_type": "markdown",
   "metadata": {},
   "source": []
  }
 ],
 "metadata": {
  "kernelspec": {
   "display_name": "Python 3",
   "language": "python",
   "name": "python3"
  },
  "language_info": {
   "codemirror_mode": {
    "name": "ipython",
    "version": 3
   },
   "file_extension": ".py",
   "mimetype": "text/x-python",
   "name": "python",
   "nbconvert_exporter": "python",
   "pygments_lexer": "ipython3",
   "version": "3.7.3"
  }
 },
 "nbformat": 4,
 "nbformat_minor": 2
}
