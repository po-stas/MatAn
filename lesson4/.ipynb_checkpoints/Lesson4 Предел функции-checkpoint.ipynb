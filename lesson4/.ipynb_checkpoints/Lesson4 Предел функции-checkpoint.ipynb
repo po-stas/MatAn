{
 "cells": [
  {
   "cell_type": "markdown",
   "metadata": {},
   "source": [
    "# Тема “Предел функции”"
   ]
  },
  {
   "cell_type": "markdown",
   "metadata": {},
   "source": [
    "1. Предложить пример функции, не имеющей предела в нуле и в бесконечностях.\n"
   ]
  },
  {
   "cell_type": "markdown",
   "metadata": {},
   "source": [
    "sin(x), cos(x).."
   ]
  },
  {
   "cell_type": "markdown",
   "metadata": {},
   "source": [
    "2. Привести пример функции, не имеющей предела в точке, но определенной в ней.\n"
   ]
  },
  {
   "cell_type": "markdown",
   "metadata": {},
   "source": [
    "sgn(x) возможно? в точке 0.. Пока несколько плаваю в понятиях - но возможно любая другая функция с разрывом первого рода будет подходить под это условие? Тоесть она определена - но предел в точке разрыва будет только односторонний.."
   ]
  },
  {
   "cell_type": "markdown",
   "metadata": {},
   "source": [
    "3. Исследовать функцию $f(x) = x^3 - x^2$ по плану: "
   ]
  },
  {
   "cell_type": "markdown",
   "metadata": {},
   "source": [
    "Область задания: $-\\infty : +\\infty$"
   ]
  },
  {
   "cell_type": "markdown",
   "metadata": {},
   "source": [
    "Область значений: $-\\infty : +\\infty$"
   ]
  },
  {
   "cell_type": "markdown",
   "metadata": {},
   "source": [
    "Нули функции и их кратность: решаем кубическое уравнение $x^3 - x^2 = 0$"
   ]
  },
  {
   "cell_type": "markdown",
   "metadata": {},
   "source": [
    "$x^3 - x^2 = 0 \\rightarrow x(x2 - x) = 0$"
   ]
  },
  {
   "cell_type": "markdown",
   "metadata": {},
   "source": [
    "$ x_1 = 0, \n",
    "$"
   ]
  },
  {
   "cell_type": "markdown",
   "metadata": {},
   "source": [
    "$D = 1,$\n"
   ]
  },
  {
   "cell_type": "markdown",
   "metadata": {},
   "source": [
    "$x_2 = 1, \n",
    "x_3 = 0$"
   ]
  },
  {
   "cell_type": "markdown",
   "metadata": {},
   "source": [
    "Итак: нули функции 0 и 1, если я правильно понял понятие кратности - то корень 1 - первой кратности, корень 0 - третьей... (сичтал по методу деления многочлена на $(x - корень)^n$"
   ]
  },
  {
   "cell_type": "markdown",
   "metadata": {},
   "source": [
    "Отрезки знакопостоянства: смотрел на график в desmos.com от $-\\infty : 0$, от 0 : 1 от 1 : $+\\infty$"
   ]
  },
  {
   "cell_type": "markdown",
   "metadata": {},
   "source": [
    "Интервалы монотонности: от $-\\infty$ до 0  и от 1 до $+\\infty$ монотонно возрастающая"
   ]
  },
  {
   "cell_type": "markdown",
   "metadata": {},
   "source": [
    "Четность функции - функция ни четная, ни нечетная\n"
   ]
  },
  {
   "cell_type": "markdown",
   "metadata": {},
   "source": [
    "Ограниченность - функция не ограничена ни снизу ни сверху\n"
   ]
  },
  {
   "cell_type": "markdown",
   "metadata": {},
   "source": [
    "Периодичность - функция не периодична"
   ]
  },
  {
   "cell_type": "markdown",
   "metadata": {},
   "source": [
    "4. Найти предел:\n"
   ]
  },
  {
   "cell_type": "markdown",
   "metadata": {},
   "source": [
    "a. $\\lim_{x\\to 0} \\frac{3x^3-2x^2}{4x^2}$"
   ]
  },
  {
   "cell_type": "markdown",
   "metadata": {},
   "source": [
    "подставляем x = 0 в выражение, $\\frac{0^3 - 0^2}{0^2} = \\frac{0}{0}$"
   ]
  },
  {
   "cell_type": "markdown",
   "metadata": {},
   "source": [
    "b. Раскладываем числитель на множители, решаем куб уравнение $x * (3x^2 - 2x) = 0$ первый корень x = 0, два других 0 и $\\frac{2}{3}$.. соответственно наше уравнение в числителе раскладывается в $3(x - 0)(x - \\frac{2}{3})(x - 0)$ "
   ]
  },
  {
   "cell_type": "markdown",
   "metadata": {},
   "source": [
    "Если записать полностью нашу функцию разложенную на множители - получится $\\frac{x^2(3x - 2)}{4x^2}\\rightarrow\\frac{3x - 2}{4}$ "
   ]
  },
  {
   "cell_type": "markdown",
   "metadata": {},
   "source": [
    "Подставляем значение 0 в функцию - получаем $-\\frac{1}{2}$"
   ]
  },
  {
   "cell_type": "markdown",
   "metadata": {},
   "source": [
    "$\\lim_{x\\to 0} \\frac{3x^3-2x^2}{4x^2} = -\\frac{1}{2}$"
   ]
  },
  {
   "cell_type": "markdown",
   "metadata": {},
   "source": [
    "b. $\\lim_{x\\to 0} \\frac{\\sqrt{1 + x}-1}{\\sqrt[3]{1 + x} - 1}$"
   ]
  },
  {
   "cell_type": "markdown",
   "metadata": {},
   "source": [
    "Подставляем 0 в x получаем $\\frac{\\sqrt{1 + 0} - 1}{\\sqrt[3]{1 + 0} - 1} = \\frac{0}{0}$"
   ]
  },
  {
   "cell_type": "markdown",
   "metadata": {},
   "source": [
    "метод решения нашел в https://math1.ru/education/limits/limitirraz1.html"
   ]
  },
  {
   "cell_type": "markdown",
   "metadata": {},
   "source": [
    "подкоренное выражение одинаковое - заменяем на $a^6$ получаем $\\frac{\\sqrt{a^6}-1}{\\sqrt[3]{a^6} - 1}$ так можно избавиться от корней.. $\\frac{a^3 - 1}{a^2 - 1}$, вычисляем a при x = 0 - $a = \\sqrt[6]{1 + 0} = 1$"
   ]
  },
  {
   "cell_type": "markdown",
   "metadata": {},
   "source": [
    "a = 1 - корень уравнения - делим числитель и знаменатель на a - 1. Получаем $\\frac{a^3 - 1}{a^2 - 1} \\rightarrow \\frac{(a - 1)(a^2 + a + 1)}{(a - 1)(a + 1)} = \\frac{a^2 + a + 1}{a + 1}$ подставляем вместо а единицу, получаем $\\frac{3}{2}$"
   ]
  },
  {
   "cell_type": "markdown",
   "metadata": {},
   "source": [
    "$\\lim_{x\\to 0} \\frac{\\sqrt{1 + x}-1}{\\sqrt[3]{1 + x} - 1} = \\frac{3}{2} = 1.5$"
   ]
  },
  {
   "cell_type": "markdown",
   "metadata": {},
   "source": [
    "с. $\\lim_{x\\to \\infty} (\\frac{x+3}{x})^{4x+1}$"
   ]
  },
  {
   "cell_type": "markdown",
   "metadata": {},
   "source": [
    "Под степенью у нас легко вычисляется предел $\\frac{x+3}{x} = \\frac{x(1 + \\frac{3}{x})}{x(1)} = 1 + \\frac{3}{x}$ второе слагаемое на бесконечности стремится к 0 - соответственно все это стремится к 1"
   ]
  },
  {
   "cell_type": "markdown",
   "metadata": {},
   "source": [
    "В показателе степени - на бесконечности - бесконечность - имеем $1^{\\infty}$"
   ]
  },
  {
   "cell_type": "markdown",
   "metadata": {},
   "source": [
    "Попытаемся привести это к виду \"второго замечательного предела\" $(1+\\frac{1}{x})^x$"
   ]
  },
  {
   "cell_type": "markdown",
   "metadata": {},
   "source": [
    "$(\\frac{x+3}{x}) = (1+\\frac{3}{x}) = (1+\\frac{1}{\\frac{x}{3}})$"
   ]
  },
  {
   "cell_type": "markdown",
   "metadata": {},
   "source": [
    "Теперь $\\frac{x}{3}$ нужно получить в показателе степени. Имеем $(1+\\frac{1}{\\frac{x}{3}})^{(\\frac{x}{3})*(\\frac{3}{x})*(4x+1)}$"
   ]
  },
  {
   "cell_type": "markdown",
   "metadata": {},
   "source": [
    "это будет $lim_{x\\to\\infty}e^{(\\frac{3}{x})*(4x+1)}$ поскольку функция $e$ непрерывна - то это будет равно $e^{lim_{x\\to\\infty (\\frac{3}{x})*(4x+1)}}$"
   ]
  },
  {
   "cell_type": "markdown",
   "metadata": {},
   "source": [
    "решаем ${lim_{x\\to\\infty (\\frac{3}{x})*(4x+1)}}$, так $(\\frac{3}{x})*(4x+1) = \\frac{12x + 3}{x} = 12 + \\frac{3}{x}^{\\to 0} = 12$"
   ]
  },
  {
   "cell_type": "markdown",
   "metadata": {},
   "source": [
    "$\\lim_{x\\to \\infty} (\\frac{x+3}{x})^{4x+1} = e^{12}$"
   ]
  },
  {
   "cell_type": "markdown",
   "metadata": {},
   "source": [
    "# Тема \"Теоремы о пределах\""
   ]
  },
  {
   "cell_type": "markdown",
   "metadata": {},
   "source": [
    "1. Найти предел"
   ]
  },
  {
   "cell_type": "markdown",
   "metadata": {},
   "source": [
    "a. $\\lim_{x\\to 0} \\frac{sin(2x)}{4x}$"
   ]
  },
  {
   "cell_type": "markdown",
   "metadata": {},
   "source": [
    "Насколько я понял из методов решения найденных в интернет, здесь проще всего будет привести функцию в виду \"первый замечательный предел\". Делаем в знаменателе 2х, $\\frac{sin(2x)}{2 * 2x}$ тогда $\\frac{sin(2x)}{2x}^{\\to 1}$ остается $\\frac{1}{2}$"
   ]
  },
  {
   "cell_type": "markdown",
   "metadata": {},
   "source": [
    "b. $\\lim_{x\\to 0} \\frac{x}{sin(x)}$"
   ]
  },
  {
   "cell_type": "markdown",
   "metadata": {},
   "source": [
    "Вообще-то это и есть первый замечательный предел - и стремится эта функция к 1.."
   ]
  },
  {
   "cell_type": "markdown",
   "metadata": {},
   "source": [
    "с. $\\lim_{x\\to 0} \\frac{x}{arcsin(x)}$"
   ]
  },
  {
   "cell_type": "markdown",
   "metadata": {},
   "source": [
    "И sin и arcsin в окрестности нуля практически эквивалентны.. соответственно - это тоже не что иное как \"первый замечательный предел\" - ответ предел равен 1. Возможно я не прав и это надо было решать ))"
   ]
  },
  {
   "cell_type": "markdown",
   "metadata": {},
   "source": [
    "d. $\\lim_{x\\to \\infty} (\\frac{4x+3}{4x-3})^{6x}$"
   ]
  },
  {
   "cell_type": "markdown",
   "metadata": {},
   "source": [
    "Метод нашел тут: https://www.youtube.com/watch?v=qeVl_2oxWss"
   ]
  },
  {
   "cell_type": "markdown",
   "metadata": {},
   "source": [
    "Поскольку при прямой подстановке $\\infty$ в х - получаем неопределенность вида $1^{\\infty}$, приводим это всё к виду \"второго замечательного предела\" $(1+\\frac{1}{x})^x$"
   ]
  },
  {
   "cell_type": "markdown",
   "metadata": {},
   "source": [
    "Для этого модифицируем выражение под степенью. $(\\frac{4x+3}{4x-3}) = (\\frac{4x-3+6}{4x-3}) = (1-\\frac{6}{4x-3}) = (1-\\frac{1}{\\frac{4x-3}{6}})$ "
   ]
  },
  {
   "cell_type": "markdown",
   "metadata": {},
   "source": [
    "Теперь нужно получить в показателе степени $\\frac{4x-3}{6}$"
   ]
  },
  {
   "cell_type": "markdown",
   "metadata": {},
   "source": [
    "$(1-\\frac{6}{\\frac{4x-3}{6}})^{\\frac{4x-3}{6} * \\frac{6}{4x-3} * 6x}$"
   ]
  },
  {
   "cell_type": "markdown",
   "metadata": {},
   "source": [
    "$(1-\\frac{6}{\\frac{4x-3}{6}})^{\\frac{4x-3}{6}}$ вот это - второй замечательный предел - и предел этот равен $e$"
   ]
  },
  {
   "cell_type": "markdown",
   "metadata": {},
   "source": [
    "Получается предел нашей функции равен $e^{\\frac{6}{4x-3} * 6x}$"
   ]
  },
  {
   "cell_type": "markdown",
   "metadata": {},
   "source": [
    "Поскольку $e$ непрерывна - то $lim_{x\\to\\infty}e^{\\frac{6}{4x-3} * 6x} = e^{lim_{x\\to\\infty}\\frac{6}{4x-3} * 6x}$"
   ]
  },
  {
   "cell_type": "markdown",
   "metadata": {},
   "source": [
    "Находим предел $\\frac{6}{4x-3} * 6x$"
   ]
  },
  {
   "cell_type": "markdown",
   "metadata": {},
   "source": [
    "$\\frac{6}{4x-3} * 6x = \\frac{36x}{4x-3} = \\frac{36}{4 - \\frac{3}{x}^{\\to 0}} = 9$"
   ]
  },
  {
   "cell_type": "markdown",
   "metadata": {},
   "source": [
    "Соответственно: $\\lim_{x\\to \\infty} (\\frac{4x+3}{4x-3})^{6x} = e^9$"
   ]
  },
  {
   "cell_type": "markdown",
   "metadata": {},
   "source": [
    "Проверил численно - вроде сходится )"
   ]
  },
  {
   "cell_type": "code",
   "execution_count": null,
   "metadata": {},
   "outputs": [],
   "source": []
  }
 ],
 "metadata": {
  "kernelspec": {
   "display_name": "Python 3",
   "language": "python",
   "name": "python3"
  },
  "language_info": {
   "codemirror_mode": {
    "name": "ipython",
    "version": 3
   },
   "file_extension": ".py",
   "mimetype": "text/x-python",
   "name": "python",
   "nbconvert_exporter": "python",
   "pygments_lexer": "ipython3",
   "version": "3.7.3"
  }
 },
 "nbformat": 4,
 "nbformat_minor": 2
}
