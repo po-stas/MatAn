{
 "cells": [
  {
   "cell_type": "markdown",
   "metadata": {},
   "source": [
    "ДЗ. К Уроку 10."
   ]
  },
  {
   "cell_type": "markdown",
   "metadata": {},
   "source": [
    "Тема 7. Ряды"
   ]
  },
  {
   "cell_type": "markdown",
   "metadata": {},
   "source": [
    "1. Исследовать ряд на сходимость используя признак д'Аламбера: "
   ]
  },
  {
   "cell_type": "markdown",
   "metadata": {},
   "source": [
    "$$\\sum_{n=1}^{\\infty} \\frac{n^n}{(n!)^n}$$"
   ]
  },
  {
   "cell_type": "markdown",
   "metadata": {},
   "source": [
    "$lim_{n\\to\\infty} \\frac{(n+1)^{n+1}}{((n+1)!)^{n+1}} : \\frac{n^n}{(n!)^n} = \\frac{(n+1)^{n+1} \\cdot (n!)^n}{((n+1)!)^{n+1} \\cdot n^n}$ "
   ]
  },
  {
   "cell_type": "markdown",
   "metadata": {},
   "source": [
    "Не особо представляю как это можно дальше решать... разве что степени через натуральные логарифмы упростить.. "
   ]
  },
  {
   "cell_type": "markdown",
   "metadata": {},
   "source": [
    "Просто глядя на эту дробь ощущение такое, что внизу (n+1)! а вверху n!, что на бесконечности будет давать 0"
   ]
  },
  {
   "cell_type": "markdown",
   "metadata": {},
   "source": [
    "Видимо наш ряд сходится.."
   ]
  },
  {
   "cell_type": "markdown",
   "metadata": {},
   "source": [
    "2. Исследовать ряд на сходимость, используя радикальный признак Коши"
   ]
  },
  {
   "cell_type": "markdown",
   "metadata": {},
   "source": [
    "$$\\sum_{n=1}^{\\infty} \\frac{n}{2^n}$$"
   ]
  },
  {
   "cell_type": "markdown",
   "metadata": {},
   "source": [
    "$lim_{n\\to\\infty}\\sqrt[n]{\\frac{n}{2^n}} = \\frac{n}{2^n}^\\frac{1}{n} = \\frac{n^{\\frac{1}{n}}}{2} = \\frac{1}{2}\\cdot lim_{n\\to\\infty} n^{\\frac{1}{n}} = \\frac{1}{2}\\cdot lim_{n\\to\\infty} e^{\\frac{1}{x}ln(x)} = \\frac{1}{2}\\cdot lim_{n\\to\\infty} e^0 = \\frac{1}{2}\\cdot 1 = \\frac{1}{2}$"
   ]
  },
  {
   "cell_type": "markdown",
   "metadata": {},
   "source": [
    "Ряд сходится."
   ]
  },
  {
   "cell_type": "markdown",
   "metadata": {},
   "source": [
    "3. Исследовать ряд на сходимость по признаку Лейбница:"
   ]
  },
  {
   "cell_type": "markdown",
   "metadata": {},
   "source": [
    "$$\\sum_{n=1}^{\\infty} \\frac{(-1)^n}{n + ln(n)}$$"
   ]
  },
  {
   "cell_type": "markdown",
   "metadata": {},
   "source": [
    "Необходимое условие:"
   ]
  },
  {
   "cell_type": "markdown",
   "metadata": {},
   "source": [
    "$lim_{n\\to\\infty} \\frac{(-1)^n}{n + ln(n)} = \\frac{\\pm 1}{\\infty} = 0$ Есть"
   ]
  },
  {
   "cell_type": "markdown",
   "metadata": {},
   "source": [
    "$|\\frac{(-1)^n}{n + ln(n)}| > |\\frac{(-1)^{n+1}}{(n+1) + ln(n+1)}|$ поскольку $\\frac{1}{n + ln(n)} > \\frac{1}{(n+1) + ln(n+1)}$"
   ]
  },
  {
   "cell_type": "markdown",
   "metadata": {},
   "source": [
    "И поскольку ряд $\\sum_{n=1}^{\\infty} |\\frac{(-1)^n}{n + ln(n)}|$ расходится (он похож на необобщенный гармонический ряд), то наш ряд сходится условно."
   ]
  },
  {
   "cell_type": "markdown",
   "metadata": {},
   "source": [
    "4. Исследовать ряд на сходимость, используя признак Раабе:"
   ]
  },
  {
   "cell_type": "markdown",
   "metadata": {},
   "source": [
    "$$\\sum_{n=1}^{\\infty} \\frac{3^n}{2^n}$$"
   ]
  },
  {
   "cell_type": "markdown",
   "metadata": {},
   "source": [
    "$lim_{n\\to\\infty} (n\\cdot (\\frac{3^n}{2^n} : \\frac{3^{n+1}}{2^{n+1}} - 1)) = lim_{n\\to\\infty} (n\\cdot (\\frac{3^n \\cdot 2^{n+1}}{2^n \\cdot 3^{n+1}} - 1)) = lim_{n\\to\\infty} (n\\cdot (\\frac{2}{3} - 1)) = lim_{n\\to\\infty} -\\frac{n}{3} = -\\infty$"
   ]
  },
  {
   "cell_type": "markdown",
   "metadata": {},
   "source": [
    "Если я все правильно посчитал - то ряд расходится..."
   ]
  },
  {
   "cell_type": "markdown",
   "metadata": {},
   "source": [
    "5. Разложить функцию по Тейлору в 1"
   ]
  },
  {
   "cell_type": "markdown",
   "metadata": {},
   "source": [
    "$$f(x) = ln(16x^2)$$"
   ]
  },
  {
   "cell_type": "markdown",
   "metadata": {},
   "source": [
    "$ln(16) + \\frac{2}{x} \\cdot (x - 1) - \\frac{\\frac{2}{x^2}}{2!} \\cdot (x - 1)^2 + \\frac{\\frac{4}{x^3}}{3!} \\cdot (x-1)^3 ... \\frac{f^k(a)}{k!} \\cdot (x - 1)^k$"
   ]
  },
  {
   "cell_type": "markdown",
   "metadata": {},
   "source": [
    "Не уверен, до какого члена его нужно было расписывать, вобщем если подставить 1 в а - то будет как-то так:\n",
    "$ln(16) + 2 \\cdot (x - 1) - \\frac{2}{2!} \\cdot (x - 1)^2 + \\frac{2}{3!} \\cdot (x-1)^3 + ... + \\frac{f^k(a)}{k!} \\cdot (x - 1)^k$"
   ]
  },
  {
   "cell_type": "code",
   "execution_count": null,
   "metadata": {},
   "outputs": [],
   "source": []
  }
 ],
 "metadata": {
  "kernelspec": {
   "display_name": "Python 3",
   "language": "python",
   "name": "python3"
  },
  "language_info": {
   "codemirror_mode": {
    "name": "ipython",
    "version": 3
   },
   "file_extension": ".py",
   "mimetype": "text/x-python",
   "name": "python",
   "nbconvert_exporter": "python",
   "pygments_lexer": "ipython3",
   "version": "3.7.3"
  }
 },
 "nbformat": 4,
 "nbformat_minor": 2
}
