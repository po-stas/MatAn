{
 "cells": [
  {
   "cell_type": "markdown",
   "metadata": {},
   "source": [
    "Lesson9. ДЗ по теме “Функция нескольких переменных” часть 2"
   ]
  },
  {
   "cell_type": "markdown",
   "metadata": {},
   "source": [
    "Исследовать функцию на условный экстремум"
   ]
  },
  {
   "cell_type": "markdown",
   "metadata": {},
   "source": [
    "1. $U = 3 - 8x + 6y$, если $x^2 + y^2 = 36$"
   ]
  },
  {
   "cell_type": "markdown",
   "metadata": {},
   "source": [
    "Сделаем через Лагранжиан:"
   ]
  },
  {
   "cell_type": "markdown",
   "metadata": {},
   "source": [
    "$L(\\lambda_1, x, y) = 3 - 8x + 6y + \\lambda_1\\cdot(x^2 + y^2 - 36)$"
   ]
  },
  {
   "cell_type": "markdown",
   "metadata": {},
   "source": [
    "$\n",
    "\\begin{cases}\n",
    "L'_x = 2\\lambda_1 x - 8 = 0\\\\\n",
    "L'_y = 2\\lambda_1 y + 6 = 0\\\\\n",
    "L'_\\lambda = x^2 + y^2 - 36 = 0\\\\\n",
    "\\end{cases}\n",
    "\\Rightarrow\n",
    "\\begin{cases}\n",
    "x = \\frac{4}{\\lambda_1}\\\\\n",
    "y = -\\frac{3}{\\lambda_1}\\\\\n",
    "(\\frac{4}{\\lambda_1})^2 + (-\\frac{3}{\\lambda_1})^2 - 36 = \\frac{16}{\\lambda_1^2} + \\frac{9}{\\lambda_1^2} - 36 = \\frac{25}{\\lambda_1^2} - 36 = \\frac{25}{\\lambda_1^2} = 36 \\rightarrow \\lambda_1^2 = \\frac{25}{36} \\rightarrow \\lambda_1 = \\sqrt{\\frac{25}{36}} \\rightarrow \\lambda_1 = |\\frac{5}{6}|\\\\\n",
    "\\end{cases}\n",
    "$"
   ]
  },
  {
   "cell_type": "markdown",
   "metadata": {},
   "source": [
    "$\n",
    "\\begin{cases}\n",
    "x = 4\\frac{4}{5}\\\\\n",
    "y = -3\\frac{3}{5}\\\\\n",
    "\\lambda_1 = \\frac{5}{6}\\\\\n",
    "\\end{cases}\n",
    "и\n",
    "\\begin{cases}\n",
    "x = -4\\frac{4}{5}\\\\\n",
    "y = 3\\frac{3}{5}\\\\\n",
    "\\lambda_1 = -\\frac{5}{6}\\\\\n",
    "\\end{cases}\n",
    "$ для двух корней лямбды"
   ]
  },
  {
   "cell_type": "markdown",
   "metadata": {},
   "source": [
    "Матрица вторых производных:"
   ]
  },
  {
   "cell_type": "markdown",
   "metadata": {},
   "source": [
    "$\n",
    "\\begin{bmatrix}\n",
    "0 & 2x & 2y\\\\\n",
    "2x & 2\\lambda_1 & 0\\\\\n",
    "2y & 0 & 2\\lambda_1\\\\\n",
    "\\end{bmatrix}\n",
    "$"
   ]
  },
  {
   "cell_type": "markdown",
   "metadata": {},
   "source": [
    "Определитель этой матрицы $\n",
    "\\begin{bmatrix}\n",
    "0 & 8.8 & -6.6\\\\\n",
    "8.8 & \\frac{10}{12} & 0\\\\\n",
    "-6.6 & 0 & \\frac{10}{12}\\\\\n",
    "\\end{bmatrix}$ в стационарной точке $(4\\frac{4}{5}; -3\\frac{3}{5}) < 0$"
   ]
  },
  {
   "cell_type": "markdown",
   "metadata": {},
   "source": [
    "Видимо у нас тут минимум."
   ]
  },
  {
   "cell_type": "markdown",
   "metadata": {},
   "source": [
    "Вторая стационарная точка $(-4\\frac{4}{5} ; 3\\frac{3}{5})$ $\n",
    "\\begin{bmatrix}\n",
    "0 & -8.8 & 6.6\\\\\n",
    "-8.8 & -\\frac{10}{12} & 0\\\\\n",
    "6.6 & 0 & -\\frac{10}{12}\\\\\n",
    "\\end{bmatrix}$  $\\Delta >  0$"
   ]
  },
  {
   "cell_type": "markdown",
   "metadata": {},
   "source": [
    "Значит в этой точке - максимум."
   ]
  },
  {
   "cell_type": "markdown",
   "metadata": {},
   "source": [
    "Проверил Wolfram-ом )"
   ]
  },
  {
   "cell_type": "markdown",
   "metadata": {},
   "source": [
    "2. $U = 2x^2 + 12xy + 32y^2 + 15$ при $x^2 + 16y^2 = 64$"
   ]
  },
  {
   "cell_type": "markdown",
   "metadata": {},
   "source": [
    "$L = (\\lambda_1, x, y) = 2x^2 + 12xy + 32y^2 + 15 + \\lambda_1\\cdot(x^2 + 16y^2 - 64)$"
   ]
  },
  {
   "cell_type": "markdown",
   "metadata": {},
   "source": [
    "$\n",
    "\\begin{cases}\n",
    "L'_x = 4x + 12y + 2\\lambda x = 0\\\\\n",
    "L'_y = 12x + 64y + 32\\lambda_1 y = 0\\\\\n",
    "L'_\\lambda = x^2 + 16y^2 - 64 = 0\\\\\n",
    "\\end{cases}\n",
    "$"
   ]
  },
  {
   "cell_type": "markdown",
   "metadata": {},
   "source": [
    "Выражаем лямбду из первого и второго.. (подсмотрел в разборе - сам дня два пробовал по-разному - не особо результативно..) Вопрос: почему не работает схема - выразить Y через X из последнего уравнения и потом подставлять в первое (выражая лямбду через X) и далее решать второе уже с одним лишь X? Пробовал - получаются либо уравнения не имеющие корней, либо какие-то вообще неудобоваримые иррациональные результаты.."
   ]
  },
  {
   "cell_type": "markdown",
   "metadata": {},
   "source": [
    "$\n",
    "\\begin{cases}\n",
    "\\lambda_1 = -\\frac{2x + 6y}{x}\\\\\n",
    "\\lambda_1 = -\\frac{12x + 64y}{32y}\\\\\n",
    "x^2 + 16y^2 - 64 = 0\\\\\n",
    "\\end{cases}\n",
    "$"
   ]
  },
  {
   "cell_type": "markdown",
   "metadata": {},
   "source": [
    "$\\frac{2x + 6y}{x} = \\frac{12x + 64y}{32y} \\Rightarrow 16xy + 48y^2 - 3x^2 - 16x = 0 \\Rightarrow 48y^2 = 3x^2 \\Rightarrow x^2 = 16y^2$"
   ]
  },
  {
   "cell_type": "markdown",
   "metadata": {},
   "source": [
    "значит - последнее уравнение можно преобразовать так:"
   ]
  },
  {
   "cell_type": "markdown",
   "metadata": {},
   "source": [
    "$16y^2 + 16y^2 = 64 \\Rightarrow y^2 = 2 \\Rightarrow y = |\\sqrt{2}|$"
   ]
  },
  {
   "cell_type": "markdown",
   "metadata": {},
   "source": [
    "Тогда $x = |\\sqrt{16y^2}| = |4\\sqrt{2}|$"
   ]
  },
  {
   "cell_type": "markdown",
   "metadata": {},
   "source": [
    "Получается у нас 4 комбинации x;y. Подставляем их в уравнение где выражена лямбда - получим 4 корня:"
   ]
  },
  {
   "cell_type": "markdown",
   "metadata": {},
   "source": [
    "$(-\\frac{7}{2}; -4\\sqrt{2}; -\\sqrt{2}), (-\\frac{1}{2}; 4\\sqrt{2}; -\\sqrt{2}), (-\\frac{7}{2}; 4\\sqrt{2}; \\sqrt{2}), (-\\frac{1}{2}; -4\\sqrt{2}; \\sqrt{2})$"
   ]
  },
  {
   "cell_type": "markdown",
   "metadata": {},
   "source": [
    "Матрица вторых производных:\n",
    "$\n",
    "\\begin{bmatrix}\n",
    "0 & 2x & 32y\\\\\n",
    "2x & 4 + 2\\lambda_1 & 12\\\\\n",
    "32y & 12 & 64 + 32\\lambda_1\\\\\n",
    "\\end{bmatrix}\n",
    "$"
   ]
  },
  {
   "cell_type": "markdown",
   "metadata": {},
   "source": [
    "Для первого корня: $(-\\frac{7}{2};-4\\sqrt{2}; -\\sqrt{2})$ матрица будет $\n",
    "\\begin{bmatrix}\n",
    "0 & -8\\sqrt{2} & -32\\sqrt{2}\\\\\n",
    "-8\\sqrt{2} & -3 & 12\\\\\n",
    "-32\\sqrt{2} & 12 & -48\\\\\n",
    "\\end{bmatrix}\n",
    "$\n",
    "Детерминант положительный - значит в $(-4\\sqrt{2}; -\\sqrt{2})$ у нас максимум."
   ]
  },
  {
   "cell_type": "markdown",
   "metadata": {},
   "source": [
    "Для второго корня: $(-\\frac{1}{2};4\\sqrt{2}; -\\sqrt{2})$ матрица будет \n",
    "$\n",
    "\\begin{bmatrix}\n",
    "0 & 8\\sqrt{2} & -32\\sqrt{2}\\\\\n",
    "8\\sqrt{2} & 5 & 12\\\\\n",
    "-32\\sqrt{2} & 12 & 48\\\\\n",
    "\\end{bmatrix}\n",
    "$\n",
    "Детерминант отрицательный - значит в $(4\\sqrt{2}; -\\sqrt{2})$ у нас минимум."
   ]
  },
  {
   "cell_type": "markdown",
   "metadata": {},
   "source": [
    "Для третьего корня: $(-\\frac{7}{2};4\\sqrt{2}; \\sqrt{2})$ матрица будет \n",
    "$\n",
    "\\begin{bmatrix}\n",
    "0 & 8\\sqrt{2} & 32\\sqrt{2}\\\\\n",
    "8\\sqrt{2} & -3 & 12\\\\\n",
    "32\\sqrt{2} & 12 & -48\\\\\n",
    "\\end{bmatrix}\n",
    "$\n",
    "Детерминант положительный - значит в $(4\\sqrt{2}; \\sqrt{2})$ у нас максимум."
   ]
  },
  {
   "cell_type": "markdown",
   "metadata": {},
   "source": [
    "Для второго корня: $(-\\frac{1}{2};-4\\sqrt{2}; \\sqrt{2})$ матрица будет \n",
    "$\n",
    "\\begin{bmatrix}\n",
    "0 & -8\\sqrt{2} & 32\\sqrt{2}\\\\\n",
    "-8\\sqrt{2} & 5 & 12\\\\\n",
    "32\\sqrt{2} & 12 & -48\\\\\n",
    "\\end{bmatrix}\n",
    "$\n",
    "Детерминант отрицательный - значит в $(-4\\sqrt{2}; \\sqrt{2})$ у нас минимум."
   ]
  },
  {
   "cell_type": "markdown",
   "metadata": {},
   "source": [
    "3. Найти производную функции $U = x^2 + y^2 + z^2$ по направлению вектора $\\vec{c} = (-9, 8, -12)$ в точку $M(8; -12; 9)$"
   ]
  },
  {
   "cell_type": "markdown",
   "metadata": {},
   "source": [
    "Частные производные:"
   ]
  },
  {
   "cell_type": "markdown",
   "metadata": {},
   "source": [
    "$\n",
    "\\begin{cases}\n",
    "\\frac{d}{dx} = 2x\\\\\n",
    "\\frac{d}{dy} = 2y\\\\\n",
    "\\frac{d}{dz} = 2z\\\\\n",
    "\\end{cases}\n",
    "$"
   ]
  },
  {
   "cell_type": "markdown",
   "metadata": {},
   "source": [
    "Прежде всего нормализуем вектор. $l = \\sqrt{x^2 + y^2 + z^2} = \\sqrt{81 + 64 + 144} = \\sqrt{289} = 17$"
   ]
  },
  {
   "cell_type": "markdown",
   "metadata": {},
   "source": [
    "$\\vec{c_0} = (-\\frac{9}{17}, \\frac{8}{17}, -\\frac{12}{17})$"
   ]
  },
  {
   "cell_type": "markdown",
   "metadata": {},
   "source": [
    "Тогда производная по направлению нашего вектора в общем виде будет $-2x\\cdot\\frac{9}{17} + 2y\\cdot\\frac{8}{17} - 2z\\cdot\\frac{12}{17}$ "
   ]
  },
  {
   "cell_type": "markdown",
   "metadata": {},
   "source": [
    "В нашей точке получится $-16\\cdot\\frac{9}{17} - 24\\cdot\\frac{8}{17} - 18\\cdot\\frac{12}{17} = \\frac{-144 - 192 - 216}{17} = -\\frac{552}{17}$"
   ]
  },
  {
   "cell_type": "markdown",
   "metadata": {},
   "source": [
    "Очевидно, что функция убывает в направлении данного вектора."
   ]
  },
  {
   "cell_type": "code",
   "execution_count": null,
   "metadata": {},
   "outputs": [],
   "source": []
  }
 ],
 "metadata": {
  "kernelspec": {
   "display_name": "Python 3",
   "language": "python",
   "name": "python3"
  },
  "language_info": {
   "codemirror_mode": {
    "name": "ipython",
    "version": 3
   },
   "file_extension": ".py",
   "mimetype": "text/x-python",
   "name": "python",
   "nbconvert_exporter": "python",
   "pygments_lexer": "ipython3",
   "version": "3.7.3"
  }
 },
 "nbformat": 4,
 "nbformat_minor": 2
}
