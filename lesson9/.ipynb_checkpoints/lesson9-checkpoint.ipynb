{
 "cells": [
  {
   "cell_type": "markdown",
   "metadata": {},
   "source": [
    "Lesson9. ДЗ по теме “Функция нескольких переменных” часть 2"
   ]
  },
  {
   "cell_type": "markdown",
   "metadata": {},
   "source": [
    "Исследовать функцию на условный экстремум"
   ]
  },
  {
   "cell_type": "markdown",
   "metadata": {},
   "source": [
    "1. $U = 3 - 8x + 6y$, если $x^2 + y^2 = 36$"
   ]
  },
  {
   "cell_type": "markdown",
   "metadata": {},
   "source": [
    "Сделаем через Лагранжиан:"
   ]
  },
  {
   "cell_type": "markdown",
   "metadata": {},
   "source": [
    "$L(\\lambda_1, x, y) = 3 - 8x + 6y + \\lambda_1\\cdot(x^2 + y^2 - 36)$"
   ]
  },
  {
   "cell_type": "markdown",
   "metadata": {},
   "source": [
    "$\n",
    "\\begin{cases}\n",
    "L'_x = 2\\lambda_1 x - 8 = 0\\\\\n",
    "L'_y = 2\\lambda_1 y + 6 = 0\\\\\n",
    "L'_\\lambda = x^2 + y^2 - 36 = 0\\\\\n",
    "\\end{cases}\n",
    "\\Rightarrow\n",
    "\\begin{cases}\n",
    "x = \\frac{4}{\\lambda_1}\\\\\n",
    "y = -\\frac{3}{\\lambda_1}\\\\\n",
    "(\\frac{4}{\\lambda_1})^2 + (-\\frac{3}{\\lambda_1})^2 - 36 = \\frac{16}{\\lambda_1^2} + \\frac{9}{\\lambda_1^2} - 36 = \\frac{25}{\\lambda_1^2} - 36 = \\frac{25}{\\lambda_1^2} = 36 \\rightarrow \\lambda_1^2 = \\frac{25}{36} \\rightarrow \\lambda_1 = \\sqrt{\\frac{25}{36}} \\rightarrow \\lambda_1 = |\\frac{5}{6}|\\\\\n",
    "\\end{cases}\n",
    "$"
   ]
  },
  {
   "cell_type": "markdown",
   "metadata": {},
   "source": [
    "$\n",
    "\\begin{cases}\n",
    "x = 4\\frac{4}{5}\\\\\n",
    "y = -3\\frac{3}{5}\\\\\n",
    "\\lambda_1 = \\frac{5}{6}\\\\\n",
    "\\end{cases}\n",
    "и\n",
    "\\begin{cases}\n",
    "x = -4\\frac{4}{5}\\\\\n",
    "y = 3\\frac{3}{5}\\\\\n",
    "\\lambda_1 = -\\frac{5}{6}\\\\\n",
    "\\end{cases}\n",
    "$ для двух корней лямбды"
   ]
  },
  {
   "cell_type": "markdown",
   "metadata": {},
   "source": [
    "Матрица вторых производных:"
   ]
  },
  {
   "cell_type": "markdown",
   "metadata": {},
   "source": [
    "$\n",
    "\\begin{bmatrix}\n",
    "0 & 2x & 2y\\\\\n",
    "2x & 2\\lambda_1 & 0\\\\\n",
    "2y & 0 & 2\\lambda_1\\\\\n",
    "\\end{bmatrix}\n",
    "$"
   ]
  },
  {
   "cell_type": "markdown",
   "metadata": {},
   "source": [
    "Определитель этой матрицы $\n",
    "\\begin{bmatrix}\n",
    "0 & 8.8 & -6.6\\\\\n",
    "8.8 & \\frac{10}{12} & 0\\\\\n",
    "-6.6 & 0 & \\frac{10}{12}\\\\\n",
    "\\end{bmatrix}$ в стационарной точке $(4\\frac{4}{5}; -3\\frac{3}{5}) < 0$"
   ]
  },
  {
   "cell_type": "markdown",
   "metadata": {},
   "source": [
    "Видимо у нас тут минимум."
   ]
  },
  {
   "cell_type": "markdown",
   "metadata": {},
   "source": [
    "Вторая стационарная точка $(-4\\frac{4}{5} ; 3\\frac{3}{5})$ $\n",
    "\\begin{bmatrix}\n",
    "0 & -8.8 & 6.6\\\\\n",
    "-8.8 & -\\frac{10}{12} & 0\\\\\n",
    "6.6 & 0 & -\\frac{10}{12}\\\\\n",
    "\\end{bmatrix}$  $\\Delta >  0$"
   ]
  },
  {
   "cell_type": "markdown",
   "metadata": {},
   "source": [
    "Значит в этой точке - максимум."
   ]
  },
  {
   "cell_type": "markdown",
   "metadata": {},
   "source": [
    "Проверил Wolfram-ом )"
   ]
  },
  {
   "cell_type": "code",
   "execution_count": null,
   "metadata": {},
   "outputs": [],
   "source": []
  }
 ],
 "metadata": {
  "kernelspec": {
   "display_name": "Python 3",
   "language": "python",
   "name": "python3"
  },
  "language_info": {
   "codemirror_mode": {
    "name": "ipython",
    "version": 3
   },
   "file_extension": ".py",
   "mimetype": "text/x-python",
   "name": "python",
   "nbconvert_exporter": "python",
   "pygments_lexer": "ipython3",
   "version": "3.7.3"
  }
 },
 "nbformat": 4,
 "nbformat_minor": 2
}
